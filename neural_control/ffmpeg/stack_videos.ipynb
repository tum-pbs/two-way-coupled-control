{
 "metadata": {
  "language_info": {
   "codemirror_mode": {
    "name": "ipython",
    "version": 3
   },
   "file_extension": ".py",
   "mimetype": "text/x-python",
   "name": "python",
   "nbconvert_exporter": "python",
   "pygments_lexer": "ipython3",
   "version": "3.7.9-final"
  },
  "orig_nbformat": 2,
  "kernelspec": {
   "name": "Python 3.7.9 64-bit",
   "display_name": "Python 3.7.9 64-bit",
   "metadata": {
    "interpreter": {
     "hash": "a5c0e89c3a58ec9d1a6fd48da468953a0d840b89341c7015783828de41ddd434"
    }
   }
  }
 },
 "nbformat": 4,
 "nbformat_minor": 2,
 "cells": [
  {
   "cell_type": "code",
   "execution_count": 3,
   "metadata": {},
   "outputs": [],
   "source": [
    "import ffmpeg \n",
    "import ffmpeg_functions as fff\n",
    "\n"
   ]
  },
  {
   "cell_type": "code",
   "execution_count": 6,
   "metadata": {},
   "outputs": [],
   "source": [
    "positions = ['10, 15, 20, 25']\n",
    "\n",
    "for i, x0 in enumerate(positions): \n",
    "\n",
    "    stream = None\n",
    "    for y0 in positions: \n",
    "\n",
    "        stream = ffmpeg.input('x%s_y%s/domain.mp4' % (x0, y0))\n",
    "        stream = fff.add_text(stream, 'x0 = %s, y0 = %s' % (x0, y0), 'w/2', '2', 30, anchor = 'mt' , font_path=  \"/home/ramos/.local/share/fonts/Unknown Vendor/TrueType/CMU Serif/CMU_Serif_Roman.ttf\")\n",
    "\n",
    "        row = stream if stream is None else fff.stack([row, stream], 'h')\n",
    "\n",
    "    stack = row if i == 0 else fff.stack([stack,row],'v')\n",
    "\n",
    "\n",
    "fff.finish(stream, 'test.mp4', './')\n"
   ]
  }
 ]
}